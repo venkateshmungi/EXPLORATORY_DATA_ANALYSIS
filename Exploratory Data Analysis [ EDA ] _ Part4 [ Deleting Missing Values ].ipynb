{
 "cells": [
  {
   "cell_type": "markdown",
   "id": "f6566641",
   "metadata": {},
   "source": [
    "### For complete Notes and videos follow on : https://bhaarathi-ai.blogspot.com/"
   ]
  },
  {
   "cell_type": "markdown",
   "id": "074cfd6e",
   "metadata": {},
   "source": [
    "### Deleting Missing values"
   ]
  },
  {
   "cell_type": "markdown",
   "id": "21d64c85",
   "metadata": {},
   "source": [
    "<h2 style=\"color:blue; font-weight:bold;\">Importing required libraries and Data set Loading</h2>"
   ]
  },
  {
   "cell_type": "code",
   "execution_count": 1,
   "id": "beab7be4",
   "metadata": {
    "scrolled": true
   },
   "outputs": [
    {
     "data": {
      "text/html": [
       "<div>\n",
       "<style scoped>\n",
       "    .dataframe tbody tr th:only-of-type {\n",
       "        vertical-align: middle;\n",
       "    }\n",
       "\n",
       "    .dataframe tbody tr th {\n",
       "        vertical-align: top;\n",
       "    }\n",
       "\n",
       "    .dataframe thead th {\n",
       "        text-align: right;\n",
       "    }\n",
       "</style>\n",
       "<table border=\"1\" class=\"dataframe\">\n",
       "  <thead>\n",
       "    <tr style=\"text-align: right;\">\n",
       "      <th></th>\n",
       "      <th>Name</th>\n",
       "      <th>Math</th>\n",
       "      <th>Science</th>\n",
       "      <th>English</th>\n",
       "    </tr>\n",
       "  </thead>\n",
       "  <tbody>\n",
       "    <tr>\n",
       "      <th>0</th>\n",
       "      <td>Venky</td>\n",
       "      <td>90.0</td>\n",
       "      <td>78.0</td>\n",
       "      <td>85.0</td>\n",
       "    </tr>\n",
       "    <tr>\n",
       "      <th>1</th>\n",
       "      <td>Ram</td>\n",
       "      <td>85.0</td>\n",
       "      <td>NaN</td>\n",
       "      <td>90.0</td>\n",
       "    </tr>\n",
       "    <tr>\n",
       "      <th>2</th>\n",
       "      <td>Sandeep</td>\n",
       "      <td>NaN</td>\n",
       "      <td>88.0</td>\n",
       "      <td>92.0</td>\n",
       "    </tr>\n",
       "    <tr>\n",
       "      <th>3</th>\n",
       "      <td>Syam</td>\n",
       "      <td>92.0</td>\n",
       "      <td>92.0</td>\n",
       "      <td>NaN</td>\n",
       "    </tr>\n",
       "    <tr>\n",
       "      <th>4</th>\n",
       "      <td>Hema</td>\n",
       "      <td>NaN</td>\n",
       "      <td>80.0</td>\n",
       "      <td>88.0</td>\n",
       "    </tr>\n",
       "    <tr>\n",
       "      <th>5</th>\n",
       "      <td>Priya</td>\n",
       "      <td>88.0</td>\n",
       "      <td>85.0</td>\n",
       "      <td>82.0</td>\n",
       "    </tr>\n",
       "  </tbody>\n",
       "</table>\n",
       "</div>"
      ],
      "text/plain": [
       "      Name  Math  Science  English\n",
       "0    Venky  90.0     78.0     85.0\n",
       "1      Ram  85.0      NaN     90.0\n",
       "2  Sandeep   NaN     88.0     92.0\n",
       "3     Syam  92.0     92.0      NaN\n",
       "4     Hema   NaN     80.0     88.0\n",
       "5    Priya  88.0     85.0     82.0"
      ]
     },
     "execution_count": 1,
     "metadata": {},
     "output_type": "execute_result"
    }
   ],
   "source": [
    "# Importing required libraries and Data set Loading\n",
    "import pandas as pd\n",
    "import numpy as np\n",
    "\n",
    "data = {\n",
    "    'Name': ['Venky', 'Ram', 'Sandeep', 'Syam', 'Hema', 'Priya'],\n",
    "    'Math': [90, 85, np.nan, 92, np.nan, 88],\n",
    "    'Science': [78, np.nan, 88, 92, 80, 85],\n",
    "    'English': [85, 90, 92, np.nan, 88, 82]\n",
    "}\n",
    "\n",
    "df = pd.DataFrame(data)\n",
    "df"
   ]
  },
  {
   "cell_type": "markdown",
   "id": "ca43a8b9",
   "metadata": {},
   "source": [
    "<h2 style=\"color:blue; font-weight:bold;\">1. Removing columns with any missing values</h2>"
   ]
  },
  {
   "cell_type": "code",
   "execution_count": 2,
   "id": "d44bd982",
   "metadata": {},
   "outputs": [
    {
     "name": "stdout",
     "output_type": "stream",
     "text": [
      "After Removing Columns with Any Missing Values:\n",
      "      Name\n",
      "0    Venky\n",
      "1      Ram\n",
      "2  Sandeep\n",
      "3     Syam\n",
      "4     Hema\n",
      "5    Priya\n"
     ]
    }
   ],
   "source": [
    "# Removing columns with any missing values\n",
    "df_removed_cols = df.dropna(axis=1, how='any')\n",
    "print(\"After Removing Columns with Any Missing Values:\")\n",
    "print(df_removed_cols)"
   ]
  },
  {
   "cell_type": "markdown",
   "id": "d4b75fc9",
   "metadata": {},
   "source": [
    "<h2 style=\"color:blue; font-weight:bold;\">2. Removing rows with missing values</h2>"
   ]
  },
  {
   "cell_type": "code",
   "execution_count": 3,
   "id": "46ecce66",
   "metadata": {},
   "outputs": [
    {
     "name": "stdout",
     "output_type": "stream",
     "text": [
      "\n",
      "After Removing Rows with Missing Values:\n",
      "    Name  Math  Science  English\n",
      "0  Venky  90.0     78.0     85.0\n",
      "5  Priya  88.0     85.0     82.0\n"
     ]
    }
   ],
   "source": [
    "# Removing rows with missing values\n",
    "df_removed_rows = df.dropna()\n",
    "print(\"\\nAfter Removing Rows with Missing Values:\")\n",
    "print(df_removed_rows)"
   ]
  },
  {
   "cell_type": "markdown",
   "id": "8f476d94",
   "metadata": {},
   "source": [
    "<h2 style=\"color:blue; font-weight:bold;\">3. Removing a column if any single missing value present in that</h2>"
   ]
  },
  {
   "cell_type": "code",
   "execution_count": 4,
   "id": "3a003330",
   "metadata": {},
   "outputs": [
    {
     "name": "stdout",
     "output_type": "stream",
     "text": [
      "\n",
      "After Removing Columns with Any Single Missing Value:\n",
      "      Name\n",
      "0    Venky\n",
      "1      Ram\n",
      "2  Sandeep\n",
      "3     Syam\n",
      "4     Hema\n",
      "5    Priya\n"
     ]
    }
   ],
   "source": [
    "# Removing a column if any single missing value present in that\n",
    "df_removed_col_any_missing = df.dropna(axis=1, how='any')\n",
    "print(\"\\nAfter Removing Columns with Any Single Missing Value:\")\n",
    "print(df_removed_col_any_missing)"
   ]
  },
  {
   "cell_type": "markdown",
   "id": "029a230d",
   "metadata": {},
   "source": [
    "<h2 style=\"color:blue; font-weight:bold;\">4. Removing a row if any single missing value present in that</h2>"
   ]
  },
  {
   "cell_type": "code",
   "execution_count": 5,
   "id": "fd24be9e",
   "metadata": {},
   "outputs": [
    {
     "name": "stdout",
     "output_type": "stream",
     "text": [
      "\n",
      "After Removing Rows with Any Single Missing Value:\n",
      "    Name  Math  Science  English\n",
      "0  Venky  90.0     78.0     85.0\n",
      "5  Priya  88.0     85.0     82.0\n"
     ]
    }
   ],
   "source": [
    "# Removing a row if any single missing value present in that\n",
    "df_removed_row_any_missing = df.dropna(axis=0, how='any')\n",
    "print(\"\\nAfter Removing Rows with Any Single Missing Value:\")\n",
    "print(df_removed_row_any_missing)"
   ]
  },
  {
   "cell_type": "markdown",
   "id": "be5d0166",
   "metadata": {},
   "source": [
    "<h2 style=\"color:blue; font-weight:bold;\">5. Removing a column when only all the values are missing</h2>"
   ]
  },
  {
   "cell_type": "code",
   "execution_count": 6,
   "id": "2741df45",
   "metadata": {},
   "outputs": [
    {
     "name": "stdout",
     "output_type": "stream",
     "text": [
      "\n",
      "After Removing Columns with All Missing Values:\n",
      "      Name  Math  Science  English\n",
      "0    Venky  90.0     78.0     85.0\n",
      "1      Ram  85.0      NaN     90.0\n",
      "2  Sandeep   NaN     88.0     92.0\n",
      "3     Syam  92.0     92.0      NaN\n",
      "4     Hema   NaN     80.0     88.0\n",
      "5    Priya  88.0     85.0     82.0\n"
     ]
    }
   ],
   "source": [
    "# Removing a column when only all the values are missing\n",
    "df_removed_col_all_missing = df.dropna(axis=1, how='all')\n",
    "print(\"\\nAfter Removing Columns with All Missing Values:\")\n",
    "print(df_removed_col_all_missing)"
   ]
  },
  {
   "cell_type": "markdown",
   "id": "979271fa",
   "metadata": {},
   "source": [
    "<h2 style=\"color:blue; font-weight:bold;\">6. Removing a row when only all the values are missing</h2>"
   ]
  },
  {
   "cell_type": "code",
   "execution_count": 7,
   "id": "7dca9a47",
   "metadata": {},
   "outputs": [
    {
     "name": "stdout",
     "output_type": "stream",
     "text": [
      "\n",
      "After Removing Rows with All Missing Values:\n",
      "      Name  Math  Science  English\n",
      "0    Venky  90.0     78.0     85.0\n",
      "1      Ram  85.0      NaN     90.0\n",
      "2  Sandeep   NaN     88.0     92.0\n",
      "3     Syam  92.0     92.0      NaN\n",
      "4     Hema   NaN     80.0     88.0\n",
      "5    Priya  88.0     85.0     82.0\n"
     ]
    }
   ],
   "source": [
    "# Removing a row when only all the values are missing\n",
    "df_removed_row_all_missing = df.dropna(axis=0, how='all')\n",
    "print(\"\\nAfter Removing Rows with All Missing Values:\")\n",
    "print(df_removed_row_all_missing)"
   ]
  },
  {
   "cell_type": "markdown",
   "id": "a28125d0",
   "metadata": {},
   "source": [
    "<h2 style=\"color:blue; font-weight:bold;\">7. Drop the 'Math' column if it contains any missing values</h2>"
   ]
  },
  {
   "cell_type": "code",
   "execution_count": 8,
   "id": "fd25c310",
   "metadata": {},
   "outputs": [
    {
     "name": "stdout",
     "output_type": "stream",
     "text": [
      "After Removing 'Math' Column:\n",
      "      Name  Science  English\n",
      "0    Venky     78.0     85.0\n",
      "1      Ram      NaN     90.0\n",
      "2  Sandeep     88.0     92.0\n",
      "3     Syam     92.0      NaN\n",
      "4     Hema     80.0     88.0\n",
      "5    Priya     85.0     82.0\n"
     ]
    }
   ],
   "source": [
    "# Drop the 'Math' column if it contains any missing values\n",
    "df_without_math = df.drop('Math', axis=1)\n",
    "print(\"After Removing 'Math' Column:\")\n",
    "print(df_without_math)"
   ]
  },
  {
   "cell_type": "markdown",
   "id": "116fedf0",
   "metadata": {},
   "source": [
    "<h2 style=\"color:blue; font-weight:bold;\">8. Drop Multiple Columns 'Science' and 'Math'if they contain any missing values</h2>"
   ]
  },
  {
   "cell_type": "code",
   "execution_count": 9,
   "id": "b3b85f76",
   "metadata": {},
   "outputs": [
    {
     "name": "stdout",
     "output_type": "stream",
     "text": [
      "After Removing 'Science' and 'Math' Columns with Missing Values:\n",
      "      Name  English\n",
      "0    Venky     85.0\n",
      "1      Ram     90.0\n",
      "2  Sandeep     92.0\n",
      "3     Syam      NaN\n",
      "4     Hema     88.0\n",
      "5    Priya     82.0\n"
     ]
    }
   ],
   "source": [
    "# Drop the 'Science' and 'Math' columns if they contain any missing values\n",
    "df_without_missing_cols = df.drop(['Science', 'Math'], axis=1)\n",
    "print(\"After Removing 'Science' and 'Math' Columns with Missing Values:\")\n",
    "print(df_without_missing_cols)"
   ]
  },
  {
   "cell_type": "markdown",
   "id": "37cfbc2b",
   "metadata": {},
   "source": [
    "<h2 style=\"color:blue; font-weight:bold;\">9. For-loop to drop only rows with missing values</h2>"
   ]
  },
  {
   "cell_type": "code",
   "execution_count": 10,
   "id": "5f09e25f",
   "metadata": {},
   "outputs": [
    {
     "name": "stdout",
     "output_type": "stream",
     "text": [
      "\n",
      "Dataset After Dropping Rows with Missing Values:\n",
      "    Name  Math  Science  English\n",
      "0  Venky  90.0     78.0     85.0\n",
      "5  Priya  88.0     85.0     82.0\n"
     ]
    }
   ],
   "source": [
    "# Iterate over rows and drop rows with missing values\n",
    "for index, row in df.iterrows():\n",
    "    if row.isnull().any():\n",
    "        df = df.drop(index)\n",
    "\n",
    "# Display the modified dataset after dropping rows with missing values\n",
    "print(\"\\nDataset After Dropping Rows with Missing Values:\")\n",
    "print(df)"
   ]
  },
  {
   "cell_type": "markdown",
   "id": "456f0826",
   "metadata": {},
   "source": [
    "<h2 style=\"color:blue; font-weight:bold;\">10. lambda expression to drop rows with missing values</h2>"
   ]
  },
  {
   "cell_type": "code",
   "execution_count": 11,
   "id": "42833b4d",
   "metadata": {},
   "outputs": [
    {
     "name": "stdout",
     "output_type": "stream",
     "text": [
      "After Dropping Rows with Missing Values:\n",
      "    Name  Math  Science  English\n",
      "0  Venky  90.0     78.0     85.0\n",
      "5  Priya  88.0     85.0     82.0\n"
     ]
    }
   ],
   "source": [
    "# Using a lambda expression to drop rows with missing values\n",
    "df_without_missing_rows = df.apply(lambda x: x.dropna(), axis=1)\n",
    "print(\"After Dropping Rows with Missing Values:\")\n",
    "print(df_without_missing_rows)"
   ]
  },
  {
   "cell_type": "markdown",
   "id": "180e9426",
   "metadata": {},
   "source": [
    "<h2 style=\"color:blue; font-weight:bold;\">11. Drop the particular single column using \"if Condition\" if it contains any missing values:</h2>"
   ]
  },
  {
   "cell_type": "code",
   "execution_count": 12,
   "id": "7a8665ba",
   "metadata": {},
   "outputs": [
    {
     "name": "stdout",
     "output_type": "stream",
     "text": [
      "    Name  Math  Science  English\n",
      "0  Venky  90.0     78.0     85.0\n",
      "5  Priya  88.0     85.0     82.0\n"
     ]
    }
   ],
   "source": [
    "if df['Math'].isnull().any():\n",
    "    df.drop('Math', axis=1, inplace=True)\n",
    "print(df)"
   ]
  },
  {
   "cell_type": "markdown",
   "id": "e91340f7",
   "metadata": {},
   "source": [
    "<h2 style=\"color:blue; font-weight:bold;\">12. Drop the Selected columns using \"if Condition\" if they contains any missing values:</h2>"
   ]
  },
  {
   "cell_type": "code",
   "execution_count": 13,
   "id": "6fed6b12",
   "metadata": {},
   "outputs": [
    {
     "name": "stdout",
     "output_type": "stream",
     "text": [
      "    Name  Math  Science  English\n",
      "0  Venky  90.0     78.0     85.0\n",
      "5  Priya  88.0     85.0     82.0\n"
     ]
    }
   ],
   "source": [
    "columns_to_check = ['Math', 'Science']\n",
    "\n",
    "if df[columns_to_check].isnull().any().any():\n",
    "    df.drop(columns_to_check, axis=1, inplace=True)\n",
    "\n",
    "print(df)"
   ]
  },
  {
   "cell_type": "markdown",
   "id": "4e38a93e",
   "metadata": {},
   "source": [
    "<h2 style=\"color:blue; font-weight:bold;\">Conclusion:</h2>"
   ]
  },
  {
   "cell_type": "markdown",
   "id": "2acf7ce9",
   "metadata": {},
   "source": [
    "In conclusion, managing missing values in a dataset is a critical aspect of data preprocessing. The choice between deletion and imputation methods depends on the nature and extent of missing data, the underlying data distribution, and the objectives of the analysis or modeling task. Striking a balance between preserving valuable information and mitigating the impact of missing values on downstream tasks is essential. Additionally, careful consideration of the reasons behind missing values, coupled with domain knowledge, can inform a more informed and context-specific approach to handling missing data. Ultimately, transparency in documenting the chosen strategies contributes to the reproducibility and reliability of data analyses and machine learning models."
   ]
  },
  {
   "cell_type": "code",
   "execution_count": null,
   "id": "9c41a907",
   "metadata": {},
   "outputs": [],
   "source": []
  }
 ],
 "metadata": {
  "kernelspec": {
   "display_name": "Python 3 (ipykernel)",
   "language": "python",
   "name": "python3"
  },
  "language_info": {
   "codemirror_mode": {
    "name": "ipython",
    "version": 3
   },
   "file_extension": ".py",
   "mimetype": "text/x-python",
   "name": "python",
   "nbconvert_exporter": "python",
   "pygments_lexer": "ipython3",
   "version": "3.11.4"
  }
 },
 "nbformat": 4,
 "nbformat_minor": 5
}
