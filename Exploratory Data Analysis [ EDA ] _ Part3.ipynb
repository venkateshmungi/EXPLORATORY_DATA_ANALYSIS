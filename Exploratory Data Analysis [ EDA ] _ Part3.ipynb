{
 "cells": [
  {
   "cell_type": "markdown",
   "id": "95b8fcf9",
   "metadata": {},
   "source": [
    "### For complete Notes and videos follow on : https://bhaarathi-ai.blogspot.com/"
   ]
  },
  {
   "cell_type": "markdown",
   "id": "6af64a2b",
   "metadata": {},
   "source": [
    "## Duplicate values Checking"
   ]
  },
  {
   "cell_type": "code",
   "execution_count": 1,
   "id": "829340b6",
   "metadata": {},
   "outputs": [
    {
     "data": {
      "text/html": [
       "<div>\n",
       "<style scoped>\n",
       "    .dataframe tbody tr th:only-of-type {\n",
       "        vertical-align: middle;\n",
       "    }\n",
       "\n",
       "    .dataframe tbody tr th {\n",
       "        vertical-align: top;\n",
       "    }\n",
       "\n",
       "    .dataframe thead th {\n",
       "        text-align: right;\n",
       "    }\n",
       "</style>\n",
       "<table border=\"1\" class=\"dataframe\">\n",
       "  <thead>\n",
       "    <tr style=\"text-align: right;\">\n",
       "      <th></th>\n",
       "      <th>symboling</th>\n",
       "      <th>normalized-losses</th>\n",
       "      <th>make</th>\n",
       "      <th>fuel-type</th>\n",
       "      <th>aspiration</th>\n",
       "      <th>num-of-doors</th>\n",
       "      <th>body-style</th>\n",
       "      <th>drive-wheels</th>\n",
       "      <th>engine-location</th>\n",
       "      <th>wheel-base</th>\n",
       "      <th>...</th>\n",
       "      <th>engine-size</th>\n",
       "      <th>fuel-system</th>\n",
       "      <th>bore</th>\n",
       "      <th>stroke</th>\n",
       "      <th>compression-ratio</th>\n",
       "      <th>horsepower</th>\n",
       "      <th>peak-rpm</th>\n",
       "      <th>city-mpg</th>\n",
       "      <th>highway-mpg</th>\n",
       "      <th>price</th>\n",
       "    </tr>\n",
       "  </thead>\n",
       "  <tbody>\n",
       "    <tr>\n",
       "      <th>0</th>\n",
       "      <td>3</td>\n",
       "      <td>?</td>\n",
       "      <td>alfa-romero</td>\n",
       "      <td>gas</td>\n",
       "      <td>std</td>\n",
       "      <td>two</td>\n",
       "      <td>convertible</td>\n",
       "      <td>rwd</td>\n",
       "      <td>front</td>\n",
       "      <td>88.6</td>\n",
       "      <td>...</td>\n",
       "      <td>130</td>\n",
       "      <td>mpfi</td>\n",
       "      <td>3.47</td>\n",
       "      <td>2.68</td>\n",
       "      <td>9.0</td>\n",
       "      <td>111</td>\n",
       "      <td>5000</td>\n",
       "      <td>21</td>\n",
       "      <td>27</td>\n",
       "      <td>13495</td>\n",
       "    </tr>\n",
       "    <tr>\n",
       "      <th>1</th>\n",
       "      <td>3</td>\n",
       "      <td>?</td>\n",
       "      <td>alfa-romero</td>\n",
       "      <td>gas</td>\n",
       "      <td>std</td>\n",
       "      <td>two</td>\n",
       "      <td>convertible</td>\n",
       "      <td>rwd</td>\n",
       "      <td>front</td>\n",
       "      <td>88.6</td>\n",
       "      <td>...</td>\n",
       "      <td>130</td>\n",
       "      <td>mpfi</td>\n",
       "      <td>3.47</td>\n",
       "      <td>2.68</td>\n",
       "      <td>9.0</td>\n",
       "      <td>111</td>\n",
       "      <td>5000</td>\n",
       "      <td>21</td>\n",
       "      <td>27</td>\n",
       "      <td>16500</td>\n",
       "    </tr>\n",
       "    <tr>\n",
       "      <th>2</th>\n",
       "      <td>1</td>\n",
       "      <td>?</td>\n",
       "      <td>alfa-romero</td>\n",
       "      <td>gas</td>\n",
       "      <td>std</td>\n",
       "      <td>two</td>\n",
       "      <td>hatchback</td>\n",
       "      <td>rwd</td>\n",
       "      <td>front</td>\n",
       "      <td>94.5</td>\n",
       "      <td>...</td>\n",
       "      <td>152</td>\n",
       "      <td>mpfi</td>\n",
       "      <td>2.68</td>\n",
       "      <td>3.47</td>\n",
       "      <td>9.0</td>\n",
       "      <td>154</td>\n",
       "      <td>5000</td>\n",
       "      <td>19</td>\n",
       "      <td>26</td>\n",
       "      <td>16500</td>\n",
       "    </tr>\n",
       "    <tr>\n",
       "      <th>3</th>\n",
       "      <td>2</td>\n",
       "      <td>164</td>\n",
       "      <td>audi</td>\n",
       "      <td>gas</td>\n",
       "      <td>std</td>\n",
       "      <td>four</td>\n",
       "      <td>sedan</td>\n",
       "      <td>fwd</td>\n",
       "      <td>front</td>\n",
       "      <td>99.8</td>\n",
       "      <td>...</td>\n",
       "      <td>109</td>\n",
       "      <td>mpfi</td>\n",
       "      <td>3.19</td>\n",
       "      <td>3.4</td>\n",
       "      <td>10.0</td>\n",
       "      <td>102</td>\n",
       "      <td>5500</td>\n",
       "      <td>24</td>\n",
       "      <td>30</td>\n",
       "      <td>13950</td>\n",
       "    </tr>\n",
       "    <tr>\n",
       "      <th>4</th>\n",
       "      <td>2</td>\n",
       "      <td>164</td>\n",
       "      <td>audi</td>\n",
       "      <td>gas</td>\n",
       "      <td>std</td>\n",
       "      <td>four</td>\n",
       "      <td>sedan</td>\n",
       "      <td>4wd</td>\n",
       "      <td>front</td>\n",
       "      <td>99.4</td>\n",
       "      <td>...</td>\n",
       "      <td>136</td>\n",
       "      <td>mpfi</td>\n",
       "      <td>3.19</td>\n",
       "      <td>3.4</td>\n",
       "      <td>8.0</td>\n",
       "      <td>115</td>\n",
       "      <td>5500</td>\n",
       "      <td>18</td>\n",
       "      <td>22</td>\n",
       "      <td>17450</td>\n",
       "    </tr>\n",
       "    <tr>\n",
       "      <th>...</th>\n",
       "      <td>...</td>\n",
       "      <td>...</td>\n",
       "      <td>...</td>\n",
       "      <td>...</td>\n",
       "      <td>...</td>\n",
       "      <td>...</td>\n",
       "      <td>...</td>\n",
       "      <td>...</td>\n",
       "      <td>...</td>\n",
       "      <td>...</td>\n",
       "      <td>...</td>\n",
       "      <td>...</td>\n",
       "      <td>...</td>\n",
       "      <td>...</td>\n",
       "      <td>...</td>\n",
       "      <td>...</td>\n",
       "      <td>...</td>\n",
       "      <td>...</td>\n",
       "      <td>...</td>\n",
       "      <td>...</td>\n",
       "      <td>...</td>\n",
       "    </tr>\n",
       "    <tr>\n",
       "      <th>200</th>\n",
       "      <td>-1</td>\n",
       "      <td>95</td>\n",
       "      <td>volvo</td>\n",
       "      <td>gas</td>\n",
       "      <td>std</td>\n",
       "      <td>four</td>\n",
       "      <td>sedan</td>\n",
       "      <td>rwd</td>\n",
       "      <td>front</td>\n",
       "      <td>109.1</td>\n",
       "      <td>...</td>\n",
       "      <td>141</td>\n",
       "      <td>mpfi</td>\n",
       "      <td>3.78</td>\n",
       "      <td>3.15</td>\n",
       "      <td>9.5</td>\n",
       "      <td>114</td>\n",
       "      <td>5400</td>\n",
       "      <td>23</td>\n",
       "      <td>28</td>\n",
       "      <td>16845</td>\n",
       "    </tr>\n",
       "    <tr>\n",
       "      <th>201</th>\n",
       "      <td>-1</td>\n",
       "      <td>95</td>\n",
       "      <td>volvo</td>\n",
       "      <td>gas</td>\n",
       "      <td>turbo</td>\n",
       "      <td>four</td>\n",
       "      <td>sedan</td>\n",
       "      <td>rwd</td>\n",
       "      <td>front</td>\n",
       "      <td>109.1</td>\n",
       "      <td>...</td>\n",
       "      <td>141</td>\n",
       "      <td>mpfi</td>\n",
       "      <td>3.78</td>\n",
       "      <td>3.15</td>\n",
       "      <td>8.7</td>\n",
       "      <td>160</td>\n",
       "      <td>5300</td>\n",
       "      <td>19</td>\n",
       "      <td>25</td>\n",
       "      <td>19045</td>\n",
       "    </tr>\n",
       "    <tr>\n",
       "      <th>202</th>\n",
       "      <td>-1</td>\n",
       "      <td>95</td>\n",
       "      <td>volvo</td>\n",
       "      <td>gas</td>\n",
       "      <td>std</td>\n",
       "      <td>four</td>\n",
       "      <td>sedan</td>\n",
       "      <td>rwd</td>\n",
       "      <td>front</td>\n",
       "      <td>109.1</td>\n",
       "      <td>...</td>\n",
       "      <td>173</td>\n",
       "      <td>mpfi</td>\n",
       "      <td>3.58</td>\n",
       "      <td>2.87</td>\n",
       "      <td>8.8</td>\n",
       "      <td>134</td>\n",
       "      <td>5500</td>\n",
       "      <td>18</td>\n",
       "      <td>23</td>\n",
       "      <td>21485</td>\n",
       "    </tr>\n",
       "    <tr>\n",
       "      <th>203</th>\n",
       "      <td>-1</td>\n",
       "      <td>95</td>\n",
       "      <td>volvo</td>\n",
       "      <td>diesel</td>\n",
       "      <td>turbo</td>\n",
       "      <td>four</td>\n",
       "      <td>sedan</td>\n",
       "      <td>rwd</td>\n",
       "      <td>front</td>\n",
       "      <td>109.1</td>\n",
       "      <td>...</td>\n",
       "      <td>145</td>\n",
       "      <td>idi</td>\n",
       "      <td>3.01</td>\n",
       "      <td>3.4</td>\n",
       "      <td>23.0</td>\n",
       "      <td>106</td>\n",
       "      <td>4800</td>\n",
       "      <td>26</td>\n",
       "      <td>27</td>\n",
       "      <td>22470</td>\n",
       "    </tr>\n",
       "    <tr>\n",
       "      <th>204</th>\n",
       "      <td>-1</td>\n",
       "      <td>95</td>\n",
       "      <td>volvo</td>\n",
       "      <td>gas</td>\n",
       "      <td>turbo</td>\n",
       "      <td>four</td>\n",
       "      <td>sedan</td>\n",
       "      <td>rwd</td>\n",
       "      <td>front</td>\n",
       "      <td>109.1</td>\n",
       "      <td>...</td>\n",
       "      <td>141</td>\n",
       "      <td>mpfi</td>\n",
       "      <td>3.78</td>\n",
       "      <td>3.15</td>\n",
       "      <td>9.5</td>\n",
       "      <td>114</td>\n",
       "      <td>5400</td>\n",
       "      <td>19</td>\n",
       "      <td>25</td>\n",
       "      <td>22625</td>\n",
       "    </tr>\n",
       "  </tbody>\n",
       "</table>\n",
       "<p>205 rows × 26 columns</p>\n",
       "</div>"
      ],
      "text/plain": [
       "     symboling normalized-losses         make fuel-type aspiration  \\\n",
       "0            3                 ?  alfa-romero       gas        std   \n",
       "1            3                 ?  alfa-romero       gas        std   \n",
       "2            1                 ?  alfa-romero       gas        std   \n",
       "3            2               164         audi       gas        std   \n",
       "4            2               164         audi       gas        std   \n",
       "..         ...               ...          ...       ...        ...   \n",
       "200         -1                95        volvo       gas        std   \n",
       "201         -1                95        volvo       gas      turbo   \n",
       "202         -1                95        volvo       gas        std   \n",
       "203         -1                95        volvo    diesel      turbo   \n",
       "204         -1                95        volvo       gas      turbo   \n",
       "\n",
       "    num-of-doors   body-style drive-wheels engine-location  wheel-base  ...  \\\n",
       "0            two  convertible          rwd           front        88.6  ...   \n",
       "1            two  convertible          rwd           front        88.6  ...   \n",
       "2            two    hatchback          rwd           front        94.5  ...   \n",
       "3           four        sedan          fwd           front        99.8  ...   \n",
       "4           four        sedan          4wd           front        99.4  ...   \n",
       "..           ...          ...          ...             ...         ...  ...   \n",
       "200         four        sedan          rwd           front       109.1  ...   \n",
       "201         four        sedan          rwd           front       109.1  ...   \n",
       "202         four        sedan          rwd           front       109.1  ...   \n",
       "203         four        sedan          rwd           front       109.1  ...   \n",
       "204         four        sedan          rwd           front       109.1  ...   \n",
       "\n",
       "     engine-size  fuel-system  bore  stroke compression-ratio horsepower  \\\n",
       "0            130         mpfi  3.47    2.68               9.0        111   \n",
       "1            130         mpfi  3.47    2.68               9.0        111   \n",
       "2            152         mpfi  2.68    3.47               9.0        154   \n",
       "3            109         mpfi  3.19     3.4              10.0        102   \n",
       "4            136         mpfi  3.19     3.4               8.0        115   \n",
       "..           ...          ...   ...     ...               ...        ...   \n",
       "200          141         mpfi  3.78    3.15               9.5        114   \n",
       "201          141         mpfi  3.78    3.15               8.7        160   \n",
       "202          173         mpfi  3.58    2.87               8.8        134   \n",
       "203          145          idi  3.01     3.4              23.0        106   \n",
       "204          141         mpfi  3.78    3.15               9.5        114   \n",
       "\n",
       "     peak-rpm city-mpg highway-mpg  price  \n",
       "0        5000       21          27  13495  \n",
       "1        5000       21          27  16500  \n",
       "2        5000       19          26  16500  \n",
       "3        5500       24          30  13950  \n",
       "4        5500       18          22  17450  \n",
       "..        ...      ...         ...    ...  \n",
       "200      5400       23          28  16845  \n",
       "201      5300       19          25  19045  \n",
       "202      5500       18          23  21485  \n",
       "203      4800       26          27  22470  \n",
       "204      5400       19          25  22625  \n",
       "\n",
       "[205 rows x 26 columns]"
      ]
     },
     "execution_count": 1,
     "metadata": {},
     "output_type": "execute_result"
    }
   ],
   "source": [
    "#importing dataset\n",
    "import pandas as pd\n",
    "import numpy as np\n",
    "data = pd.read_csv(r\"C:\\Users\\venka\\OneDrive\\Documents\\PYTHON\\PANDAS\\Automobile_data.csv\")\n",
    "data"
   ]
  },
  {
   "cell_type": "code",
   "execution_count": 2,
   "id": "c2ed37c3",
   "metadata": {},
   "outputs": [
    {
     "data": {
      "text/plain": [
       "0      False\n",
       "1      False\n",
       "2      False\n",
       "3      False\n",
       "4      False\n",
       "       ...  \n",
       "200    False\n",
       "201    False\n",
       "202    False\n",
       "203    False\n",
       "204    False\n",
       "Length: 205, dtype: bool"
      ]
     },
     "execution_count": 2,
     "metadata": {},
     "output_type": "execute_result"
    }
   ],
   "source": [
    "# Checking Duplicate values for entire dataset\n",
    "data.duplicated()"
   ]
  },
  {
   "cell_type": "code",
   "execution_count": 3,
   "id": "1d8cf127",
   "metadata": {},
   "outputs": [
    {
     "data": {
      "text/plain": [
       "False"
      ]
     },
     "execution_count": 3,
     "metadata": {},
     "output_type": "execute_result"
    }
   ],
   "source": [
    "# Checking Duplicate values for entire dataset using .any() / .all()\n",
    "data.duplicated().any()"
   ]
  },
  {
   "cell_type": "code",
   "execution_count": 4,
   "id": "3fd92c83",
   "metadata": {},
   "outputs": [
    {
     "data": {
      "text/plain": [
       "False"
      ]
     },
     "execution_count": 4,
     "metadata": {},
     "output_type": "execute_result"
    }
   ],
   "source": [
    "data.duplicated().all()"
   ]
  },
  {
   "cell_type": "code",
   "execution_count": 5,
   "id": "12504737",
   "metadata": {},
   "outputs": [
    {
     "data": {
      "text/plain": [
       "0"
      ]
     },
     "execution_count": 5,
     "metadata": {},
     "output_type": "execute_result"
    }
   ],
   "source": [
    "data.duplicated().sum()"
   ]
  },
  {
   "cell_type": "markdown",
   "id": "1d1e14a3",
   "metadata": {},
   "source": [
    "### Finding Misiing Values"
   ]
  },
  {
   "cell_type": "markdown",
   "id": "13da52ae",
   "metadata": {},
   "source": [
    "There are several ways to find missing values in a dataset. Here are a few common methods, demonstrated with an example dataset:\n",
    "\n",
    "Let's consider a hypothetical dataset:"
   ]
  },
  {
   "cell_type": "code",
   "execution_count": 6,
   "id": "65b90976",
   "metadata": {},
   "outputs": [],
   "source": [
    "import pandas as pd\n",
    "import numpy as np\n",
    "\n",
    "data = {\n",
    "    'Name': ['Alice', 'Bob', 'Charlie', np.nan, 'Eve'],\n",
    "    'Age': [25, 30, np.nan, 22, 28],\n",
    "    'Salary': [50000, np.nan, 60000, 48000, 55000],\n",
    "    'Department': ['HR', 'IT', 'Marketing', np.nan, 'Finance']\n",
    "}\n",
    "\n",
    "df = pd.DataFrame(data)"
   ]
  },
  {
   "cell_type": "code",
   "execution_count": 7,
   "id": "03bd7885",
   "metadata": {},
   "outputs": [
    {
     "data": {
      "text/html": [
       "<div>\n",
       "<style scoped>\n",
       "    .dataframe tbody tr th:only-of-type {\n",
       "        vertical-align: middle;\n",
       "    }\n",
       "\n",
       "    .dataframe tbody tr th {\n",
       "        vertical-align: top;\n",
       "    }\n",
       "\n",
       "    .dataframe thead th {\n",
       "        text-align: right;\n",
       "    }\n",
       "</style>\n",
       "<table border=\"1\" class=\"dataframe\">\n",
       "  <thead>\n",
       "    <tr style=\"text-align: right;\">\n",
       "      <th></th>\n",
       "      <th>Name</th>\n",
       "      <th>Age</th>\n",
       "      <th>Salary</th>\n",
       "      <th>Department</th>\n",
       "    </tr>\n",
       "  </thead>\n",
       "  <tbody>\n",
       "    <tr>\n",
       "      <th>0</th>\n",
       "      <td>Alice</td>\n",
       "      <td>25.0</td>\n",
       "      <td>50000.0</td>\n",
       "      <td>HR</td>\n",
       "    </tr>\n",
       "    <tr>\n",
       "      <th>1</th>\n",
       "      <td>Bob</td>\n",
       "      <td>30.0</td>\n",
       "      <td>NaN</td>\n",
       "      <td>IT</td>\n",
       "    </tr>\n",
       "    <tr>\n",
       "      <th>2</th>\n",
       "      <td>Charlie</td>\n",
       "      <td>NaN</td>\n",
       "      <td>60000.0</td>\n",
       "      <td>Marketing</td>\n",
       "    </tr>\n",
       "    <tr>\n",
       "      <th>3</th>\n",
       "      <td>NaN</td>\n",
       "      <td>22.0</td>\n",
       "      <td>48000.0</td>\n",
       "      <td>NaN</td>\n",
       "    </tr>\n",
       "    <tr>\n",
       "      <th>4</th>\n",
       "      <td>Eve</td>\n",
       "      <td>28.0</td>\n",
       "      <td>55000.0</td>\n",
       "      <td>Finance</td>\n",
       "    </tr>\n",
       "  </tbody>\n",
       "</table>\n",
       "</div>"
      ],
      "text/plain": [
       "      Name   Age   Salary Department\n",
       "0    Alice  25.0  50000.0         HR\n",
       "1      Bob  30.0      NaN         IT\n",
       "2  Charlie   NaN  60000.0  Marketing\n",
       "3      NaN  22.0  48000.0        NaN\n",
       "4      Eve  28.0  55000.0    Finance"
      ]
     },
     "execution_count": 7,
     "metadata": {},
     "output_type": "execute_result"
    }
   ],
   "source": [
    "df"
   ]
  },
  {
   "cell_type": "markdown",
   "id": "f411dbd5",
   "metadata": {},
   "source": [
    "### Using .isnull() or .isna() method:"
   ]
  },
  {
   "cell_type": "code",
   "execution_count": 8,
   "id": "3d31d439",
   "metadata": {},
   "outputs": [
    {
     "name": "stdout",
     "output_type": "stream",
     "text": [
      "    Name    Age  Salary  Department\n",
      "0  False  False   False       False\n",
      "1  False  False    True       False\n",
      "2  False   True   False       False\n",
      "3   True  False   False        True\n",
      "4  False  False   False       False\n"
     ]
    }
   ],
   "source": [
    "# Check for missing values in the entire dataset\n",
    "missing_values = df.isnull()\n",
    "\n",
    "# Display the missing values\n",
    "print(missing_values)"
   ]
  },
  {
   "cell_type": "code",
   "execution_count": 9,
   "id": "730b5b09",
   "metadata": {},
   "outputs": [
    {
     "name": "stdout",
     "output_type": "stream",
     "text": [
      "    Name    Age  Salary  Department\n",
      "0  False  False   False       False\n",
      "1  False  False    True       False\n",
      "2  False   True   False       False\n",
      "3   True  False   False        True\n",
      "4  False  False   False       False\n"
     ]
    }
   ],
   "source": [
    "# Check for missing values in the entire dataset\n",
    "missing_values = df.isna()\n",
    "\n",
    "# Display the missing values\n",
    "print(missing_values)"
   ]
  },
  {
   "cell_type": "markdown",
   "id": "62b73475",
   "metadata": {},
   "source": [
    "### Using .info() method:"
   ]
  },
  {
   "cell_type": "code",
   "execution_count": 10,
   "id": "3fc69dc4",
   "metadata": {},
   "outputs": [
    {
     "name": "stdout",
     "output_type": "stream",
     "text": [
      "<class 'pandas.core.frame.DataFrame'>\n",
      "RangeIndex: 5 entries, 0 to 4\n",
      "Data columns (total 4 columns):\n",
      " #   Column      Non-Null Count  Dtype  \n",
      "---  ------      --------------  -----  \n",
      " 0   Name        4 non-null      object \n",
      " 1   Age         4 non-null      float64\n",
      " 2   Salary      4 non-null      float64\n",
      " 3   Department  4 non-null      object \n",
      "dtypes: float64(2), object(2)\n",
      "memory usage: 292.0+ bytes\n"
     ]
    }
   ],
   "source": [
    "# Display information about the dataset, including the count of non-null values\n",
    "df.info()"
   ]
  },
  {
   "cell_type": "markdown",
   "id": "b5e7de3c",
   "metadata": {},
   "source": [
    "### Using .isnull().sum() method:"
   ]
  },
  {
   "cell_type": "code",
   "execution_count": 11,
   "id": "f1ab02d5",
   "metadata": {},
   "outputs": [
    {
     "name": "stdout",
     "output_type": "stream",
     "text": [
      "Name          1\n",
      "Age           1\n",
      "Salary        1\n",
      "Department    1\n",
      "dtype: int64\n"
     ]
    }
   ],
   "source": [
    "# Sum the missing values in each column\n",
    "missing_values_sum = df.isnull().sum()\n",
    "\n",
    "# Display the sum of missing values\n",
    "print(missing_values_sum)"
   ]
  },
  {
   "cell_type": "markdown",
   "id": "bf2d4fc5",
   "metadata": {},
   "source": [
    "### Using Heatmap Visualization:"
   ]
  },
  {
   "cell_type": "code",
   "execution_count": 12,
   "id": "6e11730b",
   "metadata": {},
   "outputs": [
    {
     "data": {
      "image/png": "[encoded data removed]",
      "text/plain": [
       "<Figure size 640x480 with 1 Axes>"
      ]
     },
     "metadata": {},
     "output_type": "display_data"
    }
   ],
   "source": [
    "import seaborn as sns\n",
    "import matplotlib.pyplot as plt\n",
    "\n",
    "# Create a heatmap to visualize missing values\n",
    "sns.heatmap(df.isnull(), cmap='viridis', cbar=False)\n",
    "\n",
    "# Display the plot\n",
    "plt.show()"
   ]
  },
  {
   "cell_type": "markdown",
   "id": "f53e0575",
   "metadata": {},
   "source": [
    "### Using .isnull().any():"
   ]
  },
  {
   "cell_type": "code",
   "execution_count": 13,
   "id": "83d0437f",
   "metadata": {},
   "outputs": [
    {
     "name": "stdout",
     "output_type": "stream",
     "text": [
      "Name          True\n",
      "Age           True\n",
      "Salary        True\n",
      "Department    True\n",
      "dtype: bool\n"
     ]
    }
   ],
   "source": [
    "# Check if there are any missing values in each column\n",
    "any_missing_values = df.isnull().any()\n",
    "\n",
    "# Display columns with missing values\n",
    "print(any_missing_values[any_missing_values])"
   ]
  },
  {
   "cell_type": "markdown",
   "id": "acc277cf",
   "metadata": {},
   "source": [
    "### Identifying Missing values in particular column using .isnull(), .sum(), .any(), .all()"
   ]
  },
  {
   "cell_type": "code",
   "execution_count": 14,
   "id": "f72a045c",
   "metadata": {},
   "outputs": [
    {
     "name": "stdout",
     "output_type": "stream",
     "text": [
      "0    False\n",
      "1     True\n",
      "2    False\n",
      "3    False\n",
      "4    False\n",
      "Name: Salary, dtype: bool\n"
     ]
    }
   ],
   "source": [
    "# Checking for missing value in particular column using .isnull()\n",
    "null = df[\"Salary\"].isnull()\n",
    "print(null)"
   ]
  },
  {
   "cell_type": "markdown",
   "id": "4a05bde6",
   "metadata": {},
   "source": [
    "The entire colum will be shown in Boolean values as True or False.\n",
    "\n",
    "[If ther is null value it returns True, otherwise returns false]"
   ]
  },
  {
   "cell_type": "code",
   "execution_count": 15,
   "id": "115b06b4",
   "metadata": {},
   "outputs": [
    {
     "name": "stdout",
     "output_type": "stream",
     "text": [
      "1\n"
     ]
    }
   ],
   "source": [
    "# Checking for missing value in particular column using .isnull().sum()\n",
    "null = df[\"Salary\"].isnull().sum()\n",
    "print(null)"
   ]
  },
  {
   "cell_type": "code",
   "execution_count": 16,
   "id": "997fa3f7",
   "metadata": {},
   "outputs": [
    {
     "name": "stdout",
     "output_type": "stream",
     "text": [
      "<bound method NDFrame._add_numeric_operations.<locals>.any of 0    False\n",
      "1     True\n",
      "2    False\n",
      "3    False\n",
      "4    False\n",
      "Name: Salary, dtype: bool>\n"
     ]
    }
   ],
   "source": [
    "# Checking for missing value in particular column using .isnull().any()\n",
    "null = df[\"Salary\"].isnull().any\n",
    "print(null)"
   ]
  },
  {
   "cell_type": "markdown",
   "id": "c36510a4",
   "metadata": {},
   "source": [
    "Both the above methods gives the count of the null value(s) that is/are present in the column"
   ]
  },
  {
   "cell_type": "code",
   "execution_count": 17,
   "id": "a193861b",
   "metadata": {},
   "outputs": [
    {
     "name": "stdout",
     "output_type": "stream",
     "text": [
      "False\n"
     ]
    }
   ],
   "source": [
    "# Checking for missing value in particular column using .isnull().all()\n",
    "null = df[\"Salary\"].isnull().all()\n",
    "print(null)"
   ]
  },
  {
   "cell_type": "markdown",
   "id": "2dfa3b7a",
   "metadata": {},
   "source": [
    "This method gives True as answer if all the values present in the column are null only. "
   ]
  },
  {
   "cell_type": "markdown",
   "id": "cffc0462",
   "metadata": {},
   "source": [
    "### Identifying Missing values in particular column using .isna(), .sum(), .any(), .all()"
   ]
  },
  {
   "cell_type": "code",
   "execution_count": 18,
   "id": "8e06e06c",
   "metadata": {},
   "outputs": [
    {
     "name": "stdout",
     "output_type": "stream",
     "text": [
      "0    False\n",
      "1     True\n",
      "2    False\n",
      "3    False\n",
      "4    False\n",
      "Name: Salary, dtype: bool\n"
     ]
    }
   ],
   "source": [
    "# Checking for missing value in particular column using .isna()\n",
    "null = df[\"Salary\"].isna()\n",
    "print(null)"
   ]
  },
  {
   "cell_type": "code",
   "execution_count": 19,
   "id": "a35d39b5",
   "metadata": {},
   "outputs": [
    {
     "name": "stdout",
     "output_type": "stream",
     "text": [
      "1\n"
     ]
    }
   ],
   "source": [
    "# Checking for missing value in particular column using .isna().sum()\n",
    "null = df[\"Salary\"].isna().sum()\n",
    "print(null)"
   ]
  },
  {
   "cell_type": "code",
   "execution_count": 20,
   "id": "36beef3e",
   "metadata": {},
   "outputs": [
    {
     "name": "stdout",
     "output_type": "stream",
     "text": [
      "False\n"
     ]
    }
   ],
   "source": [
    "# Checking for missing value in particular column using .isna().all()\n",
    "null = df[\"Salary\"].isna().all()\n",
    "print(null)"
   ]
  },
  {
   "cell_type": "code",
   "execution_count": 21,
   "id": "f4f53d07",
   "metadata": {},
   "outputs": [
    {
     "name": "stdout",
     "output_type": "stream",
     "text": [
      "False\n"
     ]
    }
   ],
   "source": [
    "# Checking for missing value in particular column using .isna().sum()\n",
    "null = df[\"Salary\"].isna().all()\n",
    "print(null)"
   ]
  },
  {
   "cell_type": "markdown",
   "id": "6fb17b9a",
   "metadata": {},
   "source": [
    "This method gives True as answer if all the values present in the column are null only."
   ]
  },
  {
   "cell_type": "markdown",
   "id": "48596b7a",
   "metadata": {},
   "source": [
    "### Identifying Missing values in selected two columns"
   ]
  },
  {
   "cell_type": "code",
   "execution_count": 22,
   "id": "0784a68b",
   "metadata": {},
   "outputs": [
    {
     "name": "stdout",
     "output_type": "stream",
     "text": [
      "     Age  Salary\n",
      "0  False   False\n",
      "1  False    True\n",
      "2   True   False\n",
      "3  False   False\n",
      "4  False   False\n"
     ]
    }
   ],
   "source": [
    "nulls = df[[\"Age\", \"Salary\"]].isnull()\n",
    "print(nulls)"
   ]
  },
  {
   "cell_type": "markdown",
   "id": "1e49b93d",
   "metadata": {},
   "source": [
    "### Identifying Columns with Missing values using for-loop"
   ]
  },
  {
   "cell_type": "code",
   "execution_count": 23,
   "id": "b0da6cbb",
   "metadata": {
    "scrolled": true
   },
   "outputs": [
    {
     "name": "stdout",
     "output_type": "stream",
     "text": [
      "Name\n",
      "Age\n",
      "Salary\n",
      "Department\n"
     ]
    }
   ],
   "source": [
    "# This method returns column names with missing values\n",
    "for column in df.columns:\n",
    "    if df[column].isnull().sum():\n",
    "        print(column)"
   ]
  },
  {
   "cell_type": "code",
   "execution_count": 24,
   "id": "d0ada302",
   "metadata": {},
   "outputs": [
    {
     "name": "stdout",
     "output_type": "stream",
     "text": [
      "Name\n",
      "Age\n",
      "Salary\n",
      "Department\n"
     ]
    }
   ],
   "source": [
    "# This method returns column names with missing values\n",
    "for column in df.columns:\n",
    "    if df[column].isnull().any():\n",
    "        print(column)"
   ]
  },
  {
   "cell_type": "code",
   "execution_count": 25,
   "id": "841e4623",
   "metadata": {},
   "outputs": [],
   "source": [
    "# This method returns column names with missing values\n",
    "for column in df.columns:\n",
    "    if df[column].isnull().all():\n",
    "        print(column)"
   ]
  },
  {
   "cell_type": "markdown",
   "id": "6eab904e",
   "metadata": {},
   "source": [
    "### Identifying Columns with Missing values using Lambda function"
   ]
  },
  {
   "cell_type": "code",
   "execution_count": 26,
   "id": "bf9fc734",
   "metadata": {},
   "outputs": [],
   "source": [
    "# Define a lambda function to check if all values in a Series are null\n",
    "is_all_null = lambda col: col.isnull().any()\n",
    "\n",
    "# Use the apply function with the lambda function on each column\n",
    "null_columns = df.apply(is_all_null)"
   ]
  },
  {
   "cell_type": "code",
   "execution_count": 27,
   "id": "87aa6c33",
   "metadata": {},
   "outputs": [
    {
     "data": {
      "text/plain": [
       "Name          True\n",
       "Age           True\n",
       "Salary        True\n",
       "Department    True\n",
       "dtype: bool"
      ]
     },
     "execution_count": 27,
     "metadata": {},
     "output_type": "execute_result"
    }
   ],
   "source": [
    "null_columns"
   ]
  },
  {
   "cell_type": "code",
   "execution_count": 28,
   "id": "8dcbe2da",
   "metadata": {},
   "outputs": [],
   "source": [
    "# Define a lambda function to check if all values in a Series are null\n",
    "is_all_null = lambda col: col.isnull().sum()\n",
    "\n",
    "# Use the apply function with the lambda function on each column\n",
    "null_columns = df.apply(is_all_null)"
   ]
  },
  {
   "cell_type": "code",
   "execution_count": 29,
   "id": "16467cfa",
   "metadata": {},
   "outputs": [
    {
     "data": {
      "text/plain": [
       "Name          1\n",
       "Age           1\n",
       "Salary        1\n",
       "Department    1\n",
       "dtype: int64"
      ]
     },
     "execution_count": 29,
     "metadata": {},
     "output_type": "execute_result"
    }
   ],
   "source": [
    "null_columns"
   ]
  },
  {
   "cell_type": "code",
   "execution_count": 30,
   "id": "64d2d0e5",
   "metadata": {},
   "outputs": [
    {
     "name": "stdout",
     "output_type": "stream",
     "text": [
      "Name\n",
      "Age\n",
      "Salary\n",
      "Department\n"
     ]
    }
   ],
   "source": [
    "# Print the column names where all values are null\n",
    "for column, is_null in null_columns.items():\n",
    "    if is_null:\n",
    "        print(column)"
   ]
  },
  {
   "cell_type": "markdown",
   "id": "225bf07a",
   "metadata": {},
   "source": [
    "### Assignment"
   ]
  },
  {
   "cell_type": "code",
   "execution_count": 31,
   "id": "c869f3dc",
   "metadata": {},
   "outputs": [
    {
     "data": {
      "text/html": [
       "<div>\n",
       "<style scoped>\n",
       "    .dataframe tbody tr th:only-of-type {\n",
       "        vertical-align: middle;\n",
       "    }\n",
       "\n",
       "    .dataframe tbody tr th {\n",
       "        vertical-align: top;\n",
       "    }\n",
       "\n",
       "    .dataframe thead th {\n",
       "        text-align: right;\n",
       "    }\n",
       "</style>\n",
       "<table border=\"1\" class=\"dataframe\">\n",
       "  <thead>\n",
       "    <tr style=\"text-align: right;\">\n",
       "      <th></th>\n",
       "      <th>A</th>\n",
       "      <th>B</th>\n",
       "      <th>C</th>\n",
       "      <th>D</th>\n",
       "      <th>E</th>\n",
       "      <th>F</th>\n",
       "      <th>G</th>\n",
       "      <th>H</th>\n",
       "      <th>I</th>\n",
       "    </tr>\n",
       "  </thead>\n",
       "  <tbody>\n",
       "    <tr>\n",
       "      <th>0</th>\n",
       "      <td>1.0</td>\n",
       "      <td>11.0</td>\n",
       "      <td>21.0</td>\n",
       "      <td>31</td>\n",
       "      <td>41.0</td>\n",
       "      <td>51.0</td>\n",
       "      <td>61</td>\n",
       "      <td>71.0</td>\n",
       "      <td>81</td>\n",
       "    </tr>\n",
       "    <tr>\n",
       "      <th>1</th>\n",
       "      <td>2.0</td>\n",
       "      <td>NaN</td>\n",
       "      <td>22.0</td>\n",
       "      <td>32</td>\n",
       "      <td>42.0</td>\n",
       "      <td>52.0</td>\n",
       "      <td>62</td>\n",
       "      <td>72.0</td>\n",
       "      <td>82</td>\n",
       "    </tr>\n",
       "    <tr>\n",
       "      <th>2</th>\n",
       "      <td>NaN</td>\n",
       "      <td>13.0</td>\n",
       "      <td>23.0</td>\n",
       "      <td>33</td>\n",
       "      <td>43.0</td>\n",
       "      <td>53.0</td>\n",
       "      <td>63</td>\n",
       "      <td>73.0</td>\n",
       "      <td>83</td>\n",
       "    </tr>\n",
       "    <tr>\n",
       "      <th>3</th>\n",
       "      <td>4.0</td>\n",
       "      <td>14.0</td>\n",
       "      <td>NaN</td>\n",
       "      <td>34</td>\n",
       "      <td>NaN</td>\n",
       "      <td>54.0</td>\n",
       "      <td>64</td>\n",
       "      <td>74.0</td>\n",
       "      <td>84</td>\n",
       "    </tr>\n",
       "    <tr>\n",
       "      <th>4</th>\n",
       "      <td>5.0</td>\n",
       "      <td>15.0</td>\n",
       "      <td>25.0</td>\n",
       "      <td>35</td>\n",
       "      <td>NaN</td>\n",
       "      <td>55.0</td>\n",
       "      <td>65</td>\n",
       "      <td>NaN</td>\n",
       "      <td>85</td>\n",
       "    </tr>\n",
       "    <tr>\n",
       "      <th>5</th>\n",
       "      <td>NaN</td>\n",
       "      <td>NaN</td>\n",
       "      <td>26.0</td>\n",
       "      <td>36</td>\n",
       "      <td>46.0</td>\n",
       "      <td>56.0</td>\n",
       "      <td>66</td>\n",
       "      <td>NaN</td>\n",
       "      <td>86</td>\n",
       "    </tr>\n",
       "    <tr>\n",
       "      <th>6</th>\n",
       "      <td>7.0</td>\n",
       "      <td>17.0</td>\n",
       "      <td>NaN</td>\n",
       "      <td>37</td>\n",
       "      <td>47.0</td>\n",
       "      <td>NaN</td>\n",
       "      <td>67</td>\n",
       "      <td>NaN</td>\n",
       "      <td>87</td>\n",
       "    </tr>\n",
       "    <tr>\n",
       "      <th>7</th>\n",
       "      <td>8.0</td>\n",
       "      <td>18.0</td>\n",
       "      <td>28.0</td>\n",
       "      <td>38</td>\n",
       "      <td>48.0</td>\n",
       "      <td>NaN</td>\n",
       "      <td>68</td>\n",
       "      <td>78.0</td>\n",
       "      <td>88</td>\n",
       "    </tr>\n",
       "    <tr>\n",
       "      <th>8</th>\n",
       "      <td>9.0</td>\n",
       "      <td>19.0</td>\n",
       "      <td>29.0</td>\n",
       "      <td>39</td>\n",
       "      <td>49.0</td>\n",
       "      <td>59.0</td>\n",
       "      <td>69</td>\n",
       "      <td>79.0</td>\n",
       "      <td>89</td>\n",
       "    </tr>\n",
       "    <tr>\n",
       "      <th>9</th>\n",
       "      <td>10.0</td>\n",
       "      <td>20.0</td>\n",
       "      <td>30.0</td>\n",
       "      <td>40</td>\n",
       "      <td>50.0</td>\n",
       "      <td>60.0</td>\n",
       "      <td>70</td>\n",
       "      <td>80.0</td>\n",
       "      <td>90</td>\n",
       "    </tr>\n",
       "  </tbody>\n",
       "</table>\n",
       "</div>"
      ],
      "text/plain": [
       "      A     B     C   D     E     F   G     H   I\n",
       "0   1.0  11.0  21.0  31  41.0  51.0  61  71.0  81\n",
       "1   2.0   NaN  22.0  32  42.0  52.0  62  72.0  82\n",
       "2   NaN  13.0  23.0  33  43.0  53.0  63  73.0  83\n",
       "3   4.0  14.0   NaN  34   NaN  54.0  64  74.0  84\n",
       "4   5.0  15.0  25.0  35   NaN  55.0  65   NaN  85\n",
       "5   NaN   NaN  26.0  36  46.0  56.0  66   NaN  86\n",
       "6   7.0  17.0   NaN  37  47.0   NaN  67   NaN  87\n",
       "7   8.0  18.0  28.0  38  48.0   NaN  68  78.0  88\n",
       "8   9.0  19.0  29.0  39  49.0  59.0  69  79.0  89\n",
       "9  10.0  20.0  30.0  40  50.0  60.0  70  80.0  90"
      ]
     },
     "execution_count": 31,
     "metadata": {},
     "output_type": "execute_result"
    }
   ],
   "source": [
    "# Create a DataFrame with 10 rows and 9 columns\n",
    "data = {\n",
    "    'A': [1, 2, np.nan, 4, 5, np.nan, 7, 8, 9, 10],\n",
    "    'B': [11, np.nan, 13, 14, 15, np.nan, 17, 18, 19, 20],\n",
    "    'C': [21, 22, 23, np.nan, 25, 26, np.nan, 28, 29, 30],\n",
    "    'D': [31, 32, 33, 34, 35, 36, 37, 38, 39, 40],\n",
    "    'E': [41, 42, 43, np.nan, np.nan, 46, 47, 48, 49, 50],\n",
    "    'F': [51, 52, 53, 54, 55, 56, np.nan, np.nan, 59, 60],\n",
    "    'G': [61, 62, 63, 64, 65, 66, 67, 68, 69, 70],\n",
    "    'H': [71, 72, 73, 74, np.nan, np.nan, np.nan, 78, 79, 80],\n",
    "    'I': [81, 82, 83, 84, 85, 86, 87, 88, 89, 90],\n",
    "}\n",
    "\n",
    "df = pd.DataFrame(data)\n",
    "df"
   ]
  },
  {
   "cell_type": "markdown",
   "id": "e73de928",
   "metadata": {},
   "source": [
    "1. Find out missing values using .info() method?\n",
    "\n",
    "2. Find out missing values using .isnull() and .sum(), .any(), .all() metthods?\n",
    "\n",
    "3. Find out missing values using .isna() and .sum(), .any(), .all() metthods?\n",
    "\n",
    "4. Find out missing values using for-loop?\n",
    "\n",
    "5. Find out missing values using lambda function?\n",
    "\n",
    "6. Find out missing values using Heat map visualization?\n",
    "\n",
    "7. Name out which columns have missing values?"
   ]
  },
  {
   "cell_type": "code",
   "execution_count": null,
   "id": "f4876b47",
   "metadata": {},
   "outputs": [],
   "source": []
  }
 ],
 "metadata": {
  "kernelspec": {
   "display_name": "Python 3 (ipykernel)",
   "language": "python",
   "name": "python3"
  },
  "language_info": {
   "codemirror_mode": {
    "name": "ipython",
    "version": 3
   },
   "file_extension": ".py",
   "mimetype": "text/x-python",
   "name": "python",
   "nbconvert_exporter": "python",
   "pygments_lexer": "ipython3",
   "version": "3.11.4"
  }
 },
 "nbformat": 4,
 "nbformat_minor": 5
}
